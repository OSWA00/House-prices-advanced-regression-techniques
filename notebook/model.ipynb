{
 "cells": [
  {
   "cell_type": "code",
   "metadata": {
    "cell_id": "991f2603-ca00-4b9e-bdea-2ee6c5a46a89",
    "tags": [],
    "deepnote_to_be_reexecuted": false,
    "source_hash": "831cfbdb",
    "execution_start": 1642702841271,
    "execution_millis": 2002,
    "deepnote_cell_type": "code"
   },
   "source": "import pandas as pd\n\nfrom sklearn.pipeline import Pipeline\n\nfrom sklearn.preprocessing import StandardScaler\nfrom sklearn.metrics import mean_squared_error\n\nfrom sklearn.model_selection import train_test_split\nfrom sklearn.model_selection import GridSearchCV\n\nfrom xgboost import XGBRegressor\nfrom xgboost import DMatrix",
   "execution_count": 1,
   "outputs": []
  },
  {
   "cell_type": "code",
   "metadata": {
    "cell_id": "43a9c250-76c5-4912-9ad4-12e4d81080e2",
    "tags": [],
    "deepnote_to_be_reexecuted": false,
    "source_hash": "24cb8610",
    "execution_start": 1642702843277,
    "execution_millis": 46,
    "deepnote_output_heights": [
     21.1875
    ],
    "deepnote_cell_type": "code"
   },
   "source": "train_df = pd.read_csv(\"../data/train.csv\")\n# test_df = pd.read_csv('../data/test.csv') # No labels\n\nX = train_df.drop([\"SalePrice\"], axis=1)\ny = train_df[\"SalePrice\"]\n",
   "execution_count": 2,
   "outputs": []
  },
  {
   "cell_type": "code",
   "source": "d_matrix = DMatrix(data=X, label=y)\n",
   "metadata": {
    "cell_id": "fc8863f7-6bbd-4a3a-bc8b-aaf8e313254f",
    "tags": [],
    "deepnote_to_be_reexecuted": false,
    "source_hash": "178f842c",
    "execution_start": 1642702843329,
    "execution_millis": 49,
    "deepnote_cell_type": "code"
   },
   "outputs": [],
   "execution_count": 3
  },
  {
   "cell_type": "code",
   "source": "# params = {\n#     \"model__max_depth\": [3, 6, 9],\n#     \"model__learning_rate\": [0.01, 0.03, 0.1, 0.3, 1],\n#     \"model__n_estimators\": [100, 500, 1000],\n# }\n",
   "metadata": {
    "cell_id": "847cc7c9-12ba-4e35-a1cd-9c516a530beb",
    "tags": [],
    "deepnote_to_be_reexecuted": false,
    "source_hash": "bb16e4cc",
    "execution_start": 1642702843394,
    "execution_millis": 6,
    "deepnote_cell_type": "code"
   },
   "outputs": [],
   "execution_count": 4
  },
  {
   "cell_type": "code",
   "source": "model = XGBRegressor(learning_rate=0.01, max_depth=3, seed=42, n_estimators=1000)\n\npipeline = Pipeline([(\"standard_scaler\", StandardScaler()), (\"model\", model)])\n\npipeline.fit(X, y)\n",
   "metadata": {
    "cell_id": "acbf8af4-10a1-411f-b29a-c4861c5f147f",
    "tags": [],
    "deepnote_to_be_reexecuted": false,
    "source_hash": "e44cbd93",
    "execution_start": 1642702843406,
    "execution_millis": 40928,
    "deepnote_output_heights": [
     300.796875
    ],
    "deepnote_cell_type": "code"
   },
   "outputs": [
    {
     "output_type": "execute_result",
     "execution_count": 5,
     "data": {
      "text/plain": "Pipeline(steps=[('standard_scaler', StandardScaler()),\n                ('model',\n                 XGBRegressor(base_score=0.5, booster='gbtree',\n                              colsample_bylevel=1, colsample_bynode=1,\n                              colsample_bytree=1, enable_categorical=False,\n                              gamma=0, gpu_id=-1, importance_type=None,\n                              interaction_constraints='', learning_rate=0.01,\n                              max_delta_step=0, max_depth=3, min_child_weight=1,\n                              missing=nan, monotone_constraints='()',\n                              n_estimators=1000, n_jobs=2, num_parallel_tree=1,\n                              predictor='auto', random_state=42, reg_alpha=0,\n                              reg_lambda=1, scale_pos_weight=1, seed=42,\n                              subsample=1, tree_method='exact',\n                              validate_parameters=1, verbosity=None))])"
     },
     "metadata": {}
    }
   ],
   "execution_count": 5
  },
  {
   "cell_type": "code",
   "source": "# clf = GridSearchCV(estimator=pipeline,param_grid=params,scoring='neg_mean_squared_error', verbose=1)\n",
   "metadata": {
    "cell_id": "615cf248-4dfd-463e-b7b4-55bda4e6e6b7",
    "tags": [],
    "deepnote_to_be_reexecuted": false,
    "source_hash": "fc78167c",
    "execution_start": 1642702884327,
    "execution_millis": 1,
    "deepnote_cell_type": "code"
   },
   "outputs": [],
   "execution_count": 6
  },
  {
   "cell_type": "code",
   "source": "# clf.fit(X, y)",
   "metadata": {
    "cell_id": "453e8dbf-8d82-43c7-8b45-44ce50074a7e",
    "tags": [],
    "deepnote_to_be_reexecuted": false,
    "source_hash": "8a015994",
    "execution_start": 1642702884328,
    "execution_millis": 1,
    "deepnote_output_heights": [
     null,
     588.796875
    ],
    "deepnote_cell_type": "code"
   },
   "outputs": [],
   "execution_count": 7
  },
  {
   "cell_type": "markdown",
   "source": "![Picture title](image-20220120-120640.png)",
   "metadata": {
    "cell_id": "ebfeafbe-e7e6-4c0a-947e-aba60a1d4df3",
    "tags": [],
    "deepnote_cell_type": "markdown"
   }
  },
  {
   "cell_type": "code",
   "source": "# print(\"Best parameters:\", clf.best_params_)\n# print(\"Lowest RMSE: \", (-clf.best_score_)**(1/2.0))\n",
   "metadata": {
    "cell_id": "86c87ec3-f2d4-4d6b-b029-552667519992",
    "tags": [],
    "deepnote_to_be_reexecuted": false,
    "source_hash": "19a5bc0",
    "execution_start": 1642702884331,
    "execution_millis": 1,
    "deepnote_cell_type": "code"
   },
   "outputs": [],
   "execution_count": 8
  },
  {
   "cell_type": "markdown",
   "source": "![Picture title](image-20220120-120707.png)",
   "metadata": {
    "cell_id": "995f305a-a035-46d4-9727-6dd3a6774ff0",
    "tags": [],
    "deepnote_cell_type": "markdown"
   }
  },
  {
   "cell_type": "markdown",
   "source": "<a style='text-decoration:none;line-height:16px;display:flex;color:#5B5B62;padding:10px;justify-content:end;' href='https://deepnote.com?utm_source=created-in-deepnote-cell&projectId=e68273de-9c0e-4792-b2f1-0ba159abf6d8' target=\"_blank\">\n<img alt='Created in deepnote.com' style='display:inline;max-height:16px;margin:0px;margin-right:7.5px;' src='data:image/svg+xml;base64,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' > </img>\nCreated in <span style='font-weight:600;margin-left:4px;'>Deepnote</span></a>",
   "metadata": {
    "tags": [],
    "created_in_deepnote_cell": true,
    "deepnote_cell_type": "markdown"
   }
  }
 ],
 "nbformat": 4,
 "nbformat_minor": 2,
 "metadata": {
  "orig_nbformat": 2,
  "deepnote": {
   "is_reactive": false
  },
  "deepnote_notebook_id": "8d6eaa3b-b417-47b2-bef9-71d00a911030",
  "deepnote_execution_queue": []
 }
}